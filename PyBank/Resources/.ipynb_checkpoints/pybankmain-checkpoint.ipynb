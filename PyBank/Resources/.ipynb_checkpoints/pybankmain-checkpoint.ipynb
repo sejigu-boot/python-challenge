{
 "cells": [
  {
   "cell_type": "code",
   "execution_count": null,
   "metadata": {},
   "outputs": [],
   "source": [
    "# Import the os module\n",
    "# This will allow us to create file paths across operating systems\n",
    "import os\n",
    "\n",
    "# Module for reading CSV files\n",
    "import csv\n",
    "\n",
    "csvpath = os.path.join('..', 'PyBank\\Resources', 'budget_data.csv')\n",
    "\n",
    "with open(csvpath, newline='') as csvfile:\n",
    "\n",
    "    # CSV reader specifies delimiter and variable that holds contents\n",
    "    csvreader = csv.reader(csvfile, delimiter=',')\n",
    "\n",
    "    #print(csvreader)\n",
    "\n",
    "    # Read the header row first (skip this step if there is no header)\n",
    "    csv_header = next(csvreader)\n",
    "    #print(f\"CSV Header: {csv_header}\")\n",
    "\n",
    "    # Read each row of data after the header\n",
    "    i = 0\n",
    "    total = 0.00\n",
    "    greatest_increase_amount = 0\n",
    "    greatest_decrease_amount = 0\n",
    "    greatest_increase_date = \"\"\n",
    "    greatest_decrease_date = \"\"\n",
    "\n",
    "    l = [] #list of all lowest and highest\n",
    "    l_change = []\n",
    "    for row in csvreader:\n",
    "        total = total + float(row[1])\n",
    "        l.append(row)\n",
    "    i = 1\n",
    "    change = 0\n",
    "print(l)"
   ]
  },
  {
   "cell_type": "code",
   "execution_count": 91,
   "metadata": {},
   "outputs": [
    {
     "name": "stdout",
     "output_type": "stream",
     "text": [
      "Financial Analysis\n",
      "----------------------------\n",
      "Total Months: 86\n",
      "Total: $38382578\n",
      "Average Change: $-2315.12\n",
      "Greatest Increase in Profits:  Jan-2012 ( 1926159 )\n",
      "Greatest Decrease in Profits:  Aug-2013 ( -2196167 )\n"
     ]
    }
   ],
   "source": [
    "    # total the changes\n",
    "    j = 0\n",
    "    total_change = 0\n",
    "    while j < len(l)-1:\n",
    "        change = int(l[j+1][1]) - int(l[j][1])\n",
    "        total_change = total_change + change\n",
    "        if change > greatest_increase_amount:\n",
    "            greatest_increase_amount = change\n",
    "            greatest_increase_date = l[j+1][0]\n",
    "        if change < greatest_decrease_amount:\n",
    "            greatest_decrease_amount = change\n",
    "            greatest_decrease_date = l[j+1][0]\n",
    "        j = j + 1\n",
    "    total_months = len(l)-1\n",
    "    avg_change = total_change/total_months\n",
    "\n",
    "print('Financial Analysis')\n",
    "print('----------------------------')\n",
    "print('Total Months: {:.0f}'.format(total_months + 1))\n",
    "print('Total: ${:.0f}'.format(total))\n",
    "print('Average Change: ${:.2f}'.format(avg_change))\n",
    "print('Greatest Increase in Profits: ', greatest_increase_date, '(',greatest_increase_amount,')' )\n",
    "print('Greatest Decrease in Profits: ', greatest_decrease_date, '(',greatest_decrease_amount,')' )\n",
    "\n"
   ]
  },
  {
   "cell_type": "code",
   "execution_count": 87,
   "metadata": {},
   "outputs": [],
   "source": [
    "with open(\"Output.txt\", \"w\") as text_file:\n",
    "    text_file.write(\"Financial Analysis \\n\")\n",
    "    text_file.write('----------------------------')\n",
    "    text_file.write('\\nTotal Months: {}'.format(total_months))\n",
    "    text_file.write('\\nTotal: ${:.0f}'.format(total))\n",
    "    text_file.write('\\nAverage Change: ${:.2f}'.format(avg_change))\n",
    "    greatest = '\\nGreatest Increase in Profits: '\n",
    "    greatest = greatest + greatest_increase_date + ' (' + str(greatest_increase_amount) +') \\n'\n",
    "    text_file.write(greatest)\n",
    "    greatest = 'Greatest Decrease in Profits: '+ greatest_decrease_date + ' (' + str(greatest_decrease_amount)+') \\n' \n",
    "    text_file.write(greatest)\n",
    "    "
   ]
  },
  {
   "cell_type": "code",
   "execution_count": null,
   "metadata": {},
   "outputs": [],
   "source": []
  }
 ],
 "metadata": {
  "kernelspec": {
   "display_name": "Python 3",
   "language": "python",
   "name": "python3"
  },
  "language_info": {
   "codemirror_mode": {
    "name": "ipython",
    "version": 3
   },
   "file_extension": ".py",
   "mimetype": "text/x-python",
   "name": "python",
   "nbconvert_exporter": "python",
   "pygments_lexer": "ipython3",
   "version": "3.7.3"
  }
 },
 "nbformat": 4,
 "nbformat_minor": 4
}
